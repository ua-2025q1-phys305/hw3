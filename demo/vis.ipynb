{
 "cells": [
  {
   "cell_type": "markdown",
   "id": "0",
   "metadata": {},
   "source": [
    "# **Bayesian Radioactive Decay Inference (2D Grid)**\n",
    "\n",
    "This notebook visualize the simplified radioactive decay problem in Homework 3."
   ]
  },
  {
   "cell_type": "markdown",
   "id": "1",
   "metadata": {},
   "source": [
    "## Enable Autoreload\n",
    "\n",
    "Enabling autoreload make debugging much easier.\n",
    "However, there is a bug in `ipython 9` that makes autoreload fail.\n",
    "Hence, we will use a exception to try enabling autoreload."
   ]
  },
  {
   "cell_type": "code",
   "execution_count": null,
   "id": "2",
   "metadata": {},
   "outputs": [],
   "source": [
    "try:\n",
    "    %load_ext autoreload\n",
    "    %autoreload 2\n",
    "except ModuleNotFoundError as e:\n",
    "    print(e)\n",
    "    print(\"Probably bug from ipython.\")\n",
    "    print(\"Relaunch kernels after editing codes, or downgrade your ipython/jupyterlab.\")"
   ]
  },
  {
   "cell_type": "markdown",
   "id": "3",
   "metadata": {},
   "source": [
    "## Load Python Package"
   ]
  },
  {
   "cell_type": "code",
   "execution_count": null,
   "id": "4",
   "metadata": {},
   "outputs": [],
   "source": [
    "import numpy as np\n",
    "from matplotlib import pyplot as plt"
   ]
  },
  {
   "cell_type": "code",
   "execution_count": null,
   "id": "5",
   "metadata": {},
   "outputs": [],
   "source": [
    "! pip install -e .. # Install the homework package if needed"
   ]
  },
  {
   "cell_type": "code",
   "execution_count": null,
   "id": "6",
   "metadata": {},
   "outputs": [],
   "source": [
    "from phys305_hw3 import *"
   ]
  },
  {
   "cell_type": "markdown",
   "id": "7",
   "metadata": {},
   "source": [
    "## Set up the Test Case"
   ]
  },
  {
   "cell_type": "code",
   "execution_count": null,
   "id": "8",
   "metadata": {},
   "outputs": [],
   "source": [
    "# Fix random seed for reproducibility\n",
    "\n",
    "np.random.seed(42)"
   ]
  },
  {
   "cell_type": "code",
   "execution_count": null,
   "id": "9",
   "metadata": {},
   "outputs": [],
   "source": [
    "# Parameter\n",
    "\n",
    "n0    = 100\n",
    "lmbda = 0.01"
   ]
  },
  {
   "cell_type": "code",
   "execution_count": null,
   "id": "10",
   "metadata": {},
   "outputs": [],
   "source": [
    "# Sampling Time\n",
    "\n",
    "ts = np.linspace(0, 100, 11)\n",
    "dt = 10"
   ]
  },
  {
   "cell_type": "markdown",
   "id": "11",
   "metadata": {},
   "source": [
    "## Test Codes in \"a1.py\""
   ]
  },
  {
   "cell_type": "code",
   "execution_count": null,
   "id": "12",
   "metadata": {},
   "outputs": [],
   "source": [
    "groundtruth = n0, lmbda\n",
    "\n",
    "Cts     = count (ts, dt, groundtruth)\n",
    "Cts_obs = sample(ts, dt, groundtruth)\n",
    "\n",
    "print(\"Times           :\", ts)\n",
    "print(\"Expected counts :\", Cts)\n",
    "print(\"Observed counts :\", Cts_obs)"
   ]
  },
  {
   "cell_type": "code",
   "execution_count": null,
   "id": "13",
   "metadata": {},
   "outputs": [],
   "source": [
    "plt.plot   (ts, Cts,            'o-', color='C0', label=\"Expected Counts\")\n",
    "plt.scatter(ts, Cts_obs, marker='x',  color='C1', label=\"Observed Counts\")\n",
    "\n",
    "plt.xlabel(\"Time\")\n",
    "plt.ylabel(\"Counts per Interval\")\n",
    "plt.title(\"Synthetic Data\")\n",
    "plt.legend()"
   ]
  },
  {
   "cell_type": "markdown",
   "id": "14",
   "metadata": {},
   "source": [
    "## Test Codes in \"a2.py\""
   ]
  },
  {
   "cell_type": "code",
   "execution_count": null,
   "id": "15",
   "metadata": {},
   "outputs": [],
   "source": [
    "# Save prior of n0 on a grid and plot it\n",
    "\n",
    "n0s, ps_n0 = prior0_n0(0, 300, 31)\n",
    "plt.plot(n0s, ps_n0, 'o-')"
   ]
  },
  {
   "cell_type": "code",
   "execution_count": null,
   "id": "16",
   "metadata": {},
   "outputs": [],
   "source": [
    "# Save prior of lmbda on a grid and plot it\n",
    "\n",
    "lmbdas, ps_lmbda = prior0_lmbda(1e-4, 1, 41)\n",
    "plt.semilogx(lmbdas, ps_lmbda, 'o-')"
   ]
  },
  {
   "cell_type": "code",
   "execution_count": null,
   "id": "17",
   "metadata": {},
   "outputs": [],
   "source": [
    "# Look at the shape and dimensions of these grids\n",
    "\n",
    "print(n0s.shape)\n",
    "print(lmbdas.shape)"
   ]
  },
  {
   "cell_type": "code",
   "execution_count": null,
   "id": "18",
   "metadata": {},
   "outputs": [],
   "source": [
    "# When we need to create 2D grid, it is useful to learn the `np.meshgrid()` function.\n",
    "# Use it and check the array dimensions.\n",
    "\n",
    "params = np.meshgrid(n0s, lmbdas)\n",
    "\n",
    "n0ss, lmbdass = params\n",
    "print(n0ss.shape)\n",
    "print(lmbdass.shape)"
   ]
  },
  {
   "cell_type": "code",
   "execution_count": null,
   "id": "19",
   "metadata": {},
   "outputs": [],
   "source": [
    "# It is also useful to learn numpy broadcasting:\n",
    "#   https://numpy.org/doc/stable/user/basics.broadcasting.html\n",
    "# and the np.newaxis syntax.\n",
    "# The follow example ensures `prior` has same dimensions as `n0ss` and `lmbdass`.\n",
    "\n",
    "prior = ps_n0[np.newaxis,:] * ps_lmbda[:,np.newaxis]\n",
    "print(prior.shape)"
   ]
  },
  {
   "cell_type": "code",
   "execution_count": null,
   "id": "20",
   "metadata": {},
   "outputs": [],
   "source": [
    "plt.pcolormesh(n0s, lmbdas, prior)\n",
    "plt.yscale('log')\n",
    "plt.xlabel(r'$n_0$')\n",
    "plt.ylabel(r'$\\lambda$')"
   ]
  },
  {
   "cell_type": "markdown",
   "id": "21",
   "metadata": {},
   "source": [
    "## Test Codes in \"a3.py\""
   ]
  },
  {
   "cell_type": "code",
   "execution_count": null,
   "id": "22",
   "metadata": {},
   "outputs": [],
   "source": [
    "obs = Cts, ts, dt\n",
    "\n",
    "like = likelihood(obs, params)"
   ]
  },
  {
   "cell_type": "code",
   "execution_count": null,
   "id": "23",
   "metadata": {},
   "outputs": [],
   "source": [
    "plt.pcolormesh(n0s, lmbdas, like)\n",
    "plt.yscale('log')\n",
    "plt.xlabel(r'$n_0$')\n",
    "plt.ylabel(r'$\\lambda$')"
   ]
  }
 ],
 "metadata": {
  "kernelspec": {
   "display_name": "Python 3 (ipykernel)",
   "language": "python",
   "name": "python3"
  },
  "language_info": {
   "codemirror_mode": {
    "name": "ipython",
    "version": 3
   },
   "file_extension": ".py",
   "mimetype": "text/x-python",
   "name": "python",
   "nbconvert_exporter": "python",
   "pygments_lexer": "ipython3",
   "version": "3.13.2"
  }
 },
 "nbformat": 4,
 "nbformat_minor": 5
}
