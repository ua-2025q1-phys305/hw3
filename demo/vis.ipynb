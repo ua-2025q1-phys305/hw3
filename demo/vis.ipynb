{
 "cells": [
  {
   "cell_type": "markdown",
   "id": "0",
   "metadata": {},
   "source": [
    "# **Bayesian Radioactive Decay Inference (2D Grid)**\n",
    "\n",
    "This notebook visualize the simplified radioactive decay problem in Homework 3."
   ]
  },
  {
   "cell_type": "markdown",
   "id": "1",
   "metadata": {},
   "source": [
    "## Enable Autoreload\n",
    "\n",
    "Enabling autoreload make debugging much easier.\n",
    "However, there is a bug in `ipython 9` that makes autoreload fail.\n",
    "Hence, we will use a exception to try enabling autoreload."
   ]
  },
  {
   "cell_type": "code",
   "execution_count": null,
   "id": "2",
   "metadata": {},
   "outputs": [],
   "source": [
    "try:\n",
    "    %load_ext autoreload\n",
    "    %autoreload 2\n",
    "except ModuleNotFoundError as e:\n",
    "    print(e)\n",
    "    print(\"Probably bug from ipython.\")\n",
    "    print(\"Relaunch kernels after editing codes, or downgrade your ipython/jupyterlab.\")"
   ]
  },
  {
   "cell_type": "markdown",
   "id": "3",
   "metadata": {},
   "source": [
    "## Load Python Package"
   ]
  },
  {
   "cell_type": "code",
   "execution_count": null,
   "id": "4",
   "metadata": {},
   "outputs": [],
   "source": [
    "import numpy as np\n",
    "from matplotlib import pyplot as plt"
   ]
  },
  {
   "cell_type": "code",
   "execution_count": null,
   "id": "5",
   "metadata": {},
   "outputs": [],
   "source": [
    "! pip install -e .. # Install the homework package if needed"
   ]
  },
  {
   "cell_type": "code",
   "execution_count": null,
   "id": "6",
   "metadata": {},
   "outputs": [],
   "source": [
    "from phys305_hw3 import *"
   ]
  },
  {
   "cell_type": "markdown",
   "id": "7",
   "metadata": {},
   "source": [
    "## Set up the Test Case"
   ]
  },
  {
   "cell_type": "code",
   "execution_count": null,
   "id": "8",
   "metadata": {},
   "outputs": [],
   "source": [
    "# Fix random seed for reproducibility\n",
    "\n",
    "np.random.seed(42)"
   ]
  },
  {
   "cell_type": "code",
   "execution_count": null,
   "id": "9",
   "metadata": {},
   "outputs": [],
   "source": [
    "# Parameter\n",
    "\n",
    "n0    = 100\n",
    "lmbda = 0.01"
   ]
  },
  {
   "cell_type": "code",
   "execution_count": null,
   "id": "10",
   "metadata": {},
   "outputs": [],
   "source": [
    "# Sampling Time\n",
    "\n",
    "ts = np.linspace(0, 100, 11)\n",
    "dt = 10"
   ]
  },
  {
   "cell_type": "code",
   "execution_count": null,
   "id": "11",
   "metadata": {},
   "outputs": [],
   "source": [
    "# Test codes in a1.py\n",
    "\n",
    "groundtruth = n0, lmbda\n",
    "\n",
    "Cts     = count (ts, dt, groundtruth)\n",
    "Cts_obs = sample(ts, dt, groundtruth)\n",
    "\n",
    "print(\"Times           :\", ts)\n",
    "print(\"Expected counts :\", Cts)\n",
    "print(\"Observed counts :\", Cts_obs)"
   ]
  },
  {
   "cell_type": "code",
   "execution_count": null,
   "id": "12",
   "metadata": {},
   "outputs": [],
   "source": [
    "plt.plot   (ts, Cts,            'o-', color='C0', label=\"Expected Counts\")\n",
    "plt.scatter(ts, Cts_obs, marker='x',  color='C1', label=\"Observed Counts\")\n",
    "\n",
    "plt.xlabel(\"Time\")\n",
    "plt.ylabel(\"Counts per Interval\")\n",
    "plt.title(\"Synthetic Data\")\n",
    "plt.legend()"
   ]
  }
 ],
 "metadata": {
  "kernelspec": {
   "display_name": "Python 3 (ipykernel)",
   "language": "python",
   "name": "python3"
  },
  "language_info": {
   "codemirror_mode": {
    "name": "ipython",
    "version": 3
   },
   "file_extension": ".py",
   "mimetype": "text/x-python",
   "name": "python",
   "nbconvert_exporter": "python",
   "pygments_lexer": "ipython3",
   "version": "3.13.2"
  }
 },
 "nbformat": 4,
 "nbformat_minor": 5
}
